{
 "cells": [
  {
   "cell_type": "code",
   "execution_count": 46,
   "id": "5ee046db",
   "metadata": {},
   "outputs": [],
   "source": [
    "import numpy as np"
   ]
  },
  {
   "cell_type": "code",
   "execution_count": 6,
   "id": "dd56640f",
   "metadata": {},
   "outputs": [
    {
     "data": {
      "text/plain": [
       "array([0, 2, 4, 6, 8])"
      ]
     },
     "execution_count": 6,
     "metadata": {},
     "output_type": "execute_result"
    }
   ],
   "source": [
    "np.arange(0, 10, 2)"
   ]
  },
  {
   "cell_type": "code",
   "execution_count": 16,
   "id": "fee973ca",
   "metadata": {},
   "outputs": [
    {
     "data": {
      "text/plain": [
       "array([0.  , 1.25, 2.5 , 3.75, 5.  ])"
      ]
     },
     "execution_count": 16,
     "metadata": {},
     "output_type": "execute_result"
    }
   ],
   "source": [
    "np.linspace(0, 30 ,11)\n",
    "np.linspace(0, 5, 5)"
   ]
  },
  {
   "cell_type": "code",
   "execution_count": 158,
   "id": "94eba27c",
   "metadata": {},
   "outputs": [
    {
     "data": {
      "text/plain": [
       "array([[[ 0,  1,  2,  3,  4],\n",
       "        [ 5,  6,  7,  8,  9],\n",
       "        [10, 11, 12, 13, 14],\n",
       "        [15, 16, 17, 18, 19],\n",
       "        [20, 21, 22, 23, 24],\n",
       "        [25, 26, 27, 28, 29],\n",
       "        [30, 31, 32, 33, 34]],\n",
       "\n",
       "       [[35, 36, 37, 38, 39],\n",
       "        [40, 41, 42, 43, 44],\n",
       "        [45, 46, 47, 48, 49],\n",
       "        [50, 51, 52, 53, 54],\n",
       "        [55, 56, 57, 58, 59],\n",
       "        [60, 61, 62, 63, 64],\n",
       "        [65, 66, 67, 68, 69]]])"
      ]
     },
     "execution_count": 158,
     "metadata": {},
     "output_type": "execute_result"
    }
   ],
   "source": [
    "arr_3d = np.arange(70)\n",
    "arr_3d.shape = (2, 7, 5)\n",
    "arr_3d"
   ]
  },
  {
   "cell_type": "code",
   "execution_count": 173,
   "id": "6cb644d0",
   "metadata": {},
   "outputs": [
    {
     "data": {
      "text/plain": [
       "array([[[ 0,  1,  2,  3,  4],\n",
       "        [ 5,  6,  7,  8,  9],\n",
       "        [10, 11, 12, 13, 14],\n",
       "        [15, 16, 17, 18, 19],\n",
       "        [20, 21, 22, 23, 24],\n",
       "        [25, 26, 27, 28, 29],\n",
       "        [30, 31, 32, 33, 34]],\n",
       "\n",
       "       [[35, 36, 37, 38, 39],\n",
       "        [40, 41, 42, 43, 44],\n",
       "        [45, 46, 47, 48, 49],\n",
       "        [50, 51, 52, 53, 54],\n",
       "        [55, 56, 57, 58, 59],\n",
       "        [60, 61, 62, 63, 64],\n",
       "        [65, 66, 67, 68, 69]]])"
      ]
     },
     "execution_count": 173,
     "metadata": {},
     "output_type": "execute_result"
    }
   ],
   "source": [
    "arr_3d * 5 - 10\n",
    "arr_3d"
   ]
  },
  {
   "cell_type": "code",
   "execution_count": 163,
   "id": "4285b42d",
   "metadata": {},
   "outputs": [],
   "source": [
    "left_mat = np.arange(6).reshape((2, 3))\n",
    "right_mat = np.arange(15).reshape((3, 5))"
   ]
  },
  {
   "cell_type": "code",
   "execution_count": 164,
   "id": "7dd84a20",
   "metadata": {},
   "outputs": [],
   "source": [
    "dot_product = np.dot(left_mat, right_mat)"
   ]
  },
  {
   "cell_type": "code",
   "execution_count": 165,
   "id": "59c7674e",
   "metadata": {},
   "outputs": [
    {
     "name": "stdout",
     "output_type": "stream",
     "text": [
      "[[0 1 2]\n",
      " [3 4 5]]\n",
      "[[ 0  1  2  3  4]\n",
      " [ 5  6  7  8  9]\n",
      " [10 11 12 13 14]]\n"
     ]
    },
    {
     "data": {
      "text/plain": [
       "array([[ 25,  28,  31,  34,  37],\n",
       "       [ 70,  82,  94, 106, 118]])"
      ]
     },
     "execution_count": 165,
     "metadata": {},
     "output_type": "execute_result"
    }
   ],
   "source": [
    "print(left_mat)\n",
    "print(right_mat)\n",
    "dot_product"
   ]
  },
  {
   "cell_type": "code",
   "execution_count": 166,
   "id": "0c2baa7b",
   "metadata": {},
   "outputs": [
    {
     "data": {
      "text/plain": [
       "(2, 7, 5)"
      ]
     },
     "execution_count": 166,
     "metadata": {},
     "output_type": "execute_result"
    }
   ],
   "source": [
    "arr_3d.shape"
   ]
  },
  {
   "cell_type": "code",
   "execution_count": 167,
   "id": "e1a435f0",
   "metadata": {},
   "outputs": [
    {
     "data": {
      "text/plain": [
       "2415"
      ]
     },
     "execution_count": 167,
     "metadata": {},
     "output_type": "execute_result"
    }
   ],
   "source": [
    "arr_3d.sum()"
   ]
  },
  {
   "cell_type": "code",
   "execution_count": 176,
   "id": "cce20000",
   "metadata": {},
   "outputs": [
    {
     "data": {
      "text/plain": [
       "array([[ 10,  35,  60,  85, 110, 135, 160],\n",
       "       [185, 210, 235, 260, 285, 310, 335]])"
      ]
     },
     "execution_count": 176,
     "metadata": {},
     "output_type": "execute_result"
    }
   ],
   "source": [
    "arr_3d.sum(axis=2)"
   ]
  },
  {
   "cell_type": "code",
   "execution_count": 174,
   "id": "20d9e966",
   "metadata": {},
   "outputs": [
    {
     "data": {
      "text/plain": [
       "array([[ 35,  37,  39,  41,  43],\n",
       "       [ 45,  47,  49,  51,  53],\n",
       "       [ 55,  57,  59,  61,  63],\n",
       "       [ 65,  67,  69,  71,  73],\n",
       "       [ 75,  77,  79,  81,  83],\n",
       "       [ 85,  87,  89,  91,  93],\n",
       "       [ 95,  97,  99, 101, 103]])"
      ]
     },
     "execution_count": 174,
     "metadata": {},
     "output_type": "execute_result"
    }
   ],
   "source": [
    "arr_3d.sum(axis=0)"
   ]
  },
  {
   "cell_type": "code",
   "execution_count": 177,
   "id": "67ece2db",
   "metadata": {},
   "outputs": [
    {
     "data": {
      "text/plain": [
       "array([[ 0,  1,  2,  3,  4],\n",
       "       [ 5,  6,  7,  8,  9],\n",
       "       [10, 11, 12, 13, 14],\n",
       "       [15, 16, 17, 18, 19],\n",
       "       [20, 21, 22, 23, 24]])"
      ]
     },
     "execution_count": 177,
     "metadata": {},
     "output_type": "execute_result"
    }
   ],
   "source": [
    "arr_2d = np.arange(25).reshape((5, 5))\n",
    "arr_2d"
   ]
  },
  {
   "cell_type": "code",
   "execution_count": 184,
   "id": "82cdaa8f",
   "metadata": {},
   "outputs": [
    {
     "data": {
      "text/plain": [
       "array([50, 55, 60, 65, 70])"
      ]
     },
     "execution_count": 184,
     "metadata": {},
     "output_type": "execute_result"
    }
   ],
   "source": [
    "arr_2d.sum(axis=0)"
   ]
  },
  {
   "cell_type": "markdown",
   "id": "248f9849",
   "metadata": {},
   "source": [
    "### broadcastin"
   ]
  },
  {
   "cell_type": "code",
   "execution_count": 186,
   "id": "d575f16f",
   "metadata": {},
   "outputs": [
    {
     "data": {
      "text/plain": [
       "array([[5, 5, 5, 5, 5],\n",
       "       [5, 5, 5, 5, 5],\n",
       "       [5, 5, 5, 5, 5],\n",
       "       [5, 5, 5, 5, 5],\n",
       "       [5, 5, 5, 5, 5],\n",
       "       [5, 5, 5, 5, 5],\n",
       "       [5, 5, 5, 5, 5]])"
      ]
     },
     "execution_count": 186,
     "metadata": {},
     "output_type": "execute_result"
    }
   ],
   "source": [
    "arr_2d = np.ones(35, dtype=int).reshape((7, 5)) * 5\n",
    "arr_2d"
   ]
  },
  {
   "cell_type": "code",
   "execution_count": 187,
   "id": "a5040eb3",
   "metadata": {},
   "outputs": [
    {
     "data": {
      "text/plain": [
       "array([[0.6414032 , 0.47391686, 0.66950594, 0.61873581, 0.91450255],\n",
       "       [0.94294728, 0.96892195, 0.90170162, 0.61096877, 0.19136427],\n",
       "       [0.85225598, 0.50671101, 0.73914515, 0.63600554, 0.42590684],\n",
       "       [0.79550349, 0.05408543, 0.40024855, 0.82101059, 0.05409225],\n",
       "       [0.10237997, 0.56766494, 0.66698416, 0.6572977 , 0.01579345],\n",
       "       [0.55285397, 0.30061142, 0.56804588, 0.39519771, 0.89524915],\n",
       "       [0.14599165, 0.73526879, 0.93335036, 0.41377804, 0.75445082]])"
      ]
     },
     "execution_count": 187,
     "metadata": {},
     "output_type": "execute_result"
    }
   ],
   "source": [
    "rand_2d = np.random.random((7, 5))\n",
    "rand_2d"
   ]
  },
  {
   "cell_type": "code",
   "execution_count": 191,
   "id": "4e22ef49",
   "metadata": {},
   "outputs": [
    {
     "data": {
      "text/plain": [
       "array([[[ 0.    ,  0.4739,  1.339 ,  1.8562,  3.658 ],\n",
       "        [ 4.7147,  5.8135,  6.3119,  4.8878,  1.7223],\n",
       "        [ 8.5226,  5.5738,  8.8697,  8.2681,  5.9627],\n",
       "        [11.9326,  0.8654,  6.8042, 14.7782,  1.0278],\n",
       "        [ 2.0476, 11.921 , 14.6737, 15.1178,  0.379 ],\n",
       "        [13.8213,  7.8159, 15.3372, 11.0655, 25.9622],\n",
       "        [ 4.3797, 22.7933, 29.8672, 13.6547, 25.6513]],\n",
       "\n",
       "       [[22.4491, 17.061 , 24.7717, 23.512 , 35.6656],\n",
       "        [37.7179, 39.7258, 37.8715, 26.2717,  8.42  ],\n",
       "        [38.3515, 23.3087, 34.7398, 30.5283, 20.8694],\n",
       "        [39.7752,  2.7584, 20.8129, 43.5136,  2.921 ],\n",
       "        [ 5.6309, 31.7892, 38.0181, 38.1233,  0.9318],\n",
       "        [33.1712, 18.3373, 35.2188, 24.8975, 57.2959],\n",
       "        [ 9.4895, 48.5277, 62.5345, 28.1369, 52.0571]]])"
      ]
     },
     "execution_count": 191,
     "metadata": {},
     "output_type": "execute_result"
    }
   ],
   "source": [
    "np.set_printoptions(precision=4)\n",
    "arr_3d * rand_2d"
   ]
  },
  {
   "cell_type": "code",
   "execution_count": 192,
   "id": "0cbb580c",
   "metadata": {},
   "outputs": [
    {
     "data": {
      "text/plain": [
       "array([-1,  7, 14, 21, 28])"
      ]
     },
     "execution_count": 192,
     "metadata": {},
     "output_type": "execute_result"
    }
   ],
   "source": [
    "vec = np.arange(5) * 7\n",
    "vec[0] = -1\n",
    "vec"
   ]
  },
  {
   "cell_type": "code",
   "execution_count": 193,
   "id": "ad13968e",
   "metadata": {},
   "outputs": [
    {
     "data": {
      "text/plain": [
       "array([[[ -0.    ,   0.1429,   0.1429,   0.1429,   0.1429],\n",
       "        [ -5.    ,   0.8571,   0.5   ,   0.381 ,   0.3214],\n",
       "        [-10.    ,   1.5714,   0.8571,   0.619 ,   0.5   ],\n",
       "        [-15.    ,   2.2857,   1.2143,   0.8571,   0.6786],\n",
       "        [-20.    ,   3.    ,   1.5714,   1.0952,   0.8571],\n",
       "        [-25.    ,   3.7143,   1.9286,   1.3333,   1.0357],\n",
       "        [-30.    ,   4.4286,   2.2857,   1.5714,   1.2143]],\n",
       "\n",
       "       [[-35.    ,   5.1429,   2.6429,   1.8095,   1.3929],\n",
       "        [-40.    ,   5.8571,   3.    ,   2.0476,   1.5714],\n",
       "        [-45.    ,   6.5714,   3.3571,   2.2857,   1.75  ],\n",
       "        [-50.    ,   7.2857,   3.7143,   2.5238,   1.9286],\n",
       "        [-55.    ,   8.    ,   4.0714,   2.7619,   2.1071],\n",
       "        [-60.    ,   8.7143,   4.4286,   3.    ,   2.2857],\n",
       "        [-65.    ,   9.4286,   4.7857,   3.2381,   2.4643]]])"
      ]
     },
     "execution_count": 193,
     "metadata": {},
     "output_type": "execute_result"
    }
   ],
   "source": [
    "arr_3d / vec"
   ]
  },
  {
   "cell_type": "markdown",
   "id": "d5ee4033",
   "metadata": {},
   "source": [
    " ## structed arrays"
   ]
  },
  {
   "cell_type": "code",
   "execution_count": 205,
   "id": "6f356a32",
   "metadata": {},
   "outputs": [
    {
     "data": {
      "text/plain": [
       "[('name', 'S6'), ('height', 'f8'), ('weight', 'f8'), ('age', 'i8')]"
      ]
     },
     "execution_count": 205,
     "metadata": {},
     "output_type": "execute_result"
    }
   ],
   "source": [
    "employee_data_def = [('name', 'S6'), ('height', 'f8'), ('weight', 'f8'),\n",
    "                     ('age', 'i8')]\n",
    "employee_data_def"
   ]
  },
  {
   "cell_type": "code",
   "execution_count": 206,
   "id": "201eddd0",
   "metadata": {},
   "outputs": [
    {
     "data": {
      "text/plain": [
       "array([(b'', 0., 0., 0), (b'', 0., 0., 0), (b'', 0., 0., 0),\n",
       "       (b'', 0., 0., 0)],\n",
       "      dtype=[('name', 'S6'), ('height', '<f8'), ('weight', '<f8'), ('age', '<i8')])"
      ]
     },
     "execution_count": 206,
     "metadata": {},
     "output_type": "execute_result"
    }
   ],
   "source": [
    "employees_array = np.zeros((4), dtype=employee_data_def)\n",
    "employees_array"
   ]
  },
  {
   "cell_type": "code",
   "execution_count": 207,
   "id": "d87b27f2",
   "metadata": {},
   "outputs": [],
   "source": [
    "employees_array[3] = (\"donatello\", 200, 100, 105)"
   ]
  },
  {
   "cell_type": "code",
   "execution_count": 208,
   "id": "77d5dbd4",
   "metadata": {},
   "outputs": [],
   "source": [
    "employees_array[0] = ('rafael', 198, 99, 89)"
   ]
  },
  {
   "cell_type": "code",
   "execution_count": 209,
   "id": "be73992b",
   "metadata": {},
   "outputs": [
    {
     "data": {
      "text/plain": [
       "array([(b'rafael', 198.,  99.,  89), (b'',   0.,   0.,   0),\n",
       "       (b'',   0.,   0.,   0), (b'donate', 200., 100., 105)],\n",
       "      dtype=[('name', 'S6'), ('height', '<f8'), ('weight', '<f8'), ('age', '<i8')])"
      ]
     },
     "execution_count": 209,
     "metadata": {},
     "output_type": "execute_result"
    }
   ],
   "source": [
    "employees_array"
   ]
  },
  {
   "cell_type": "code",
   "execution_count": 212,
   "id": "db8136d0",
   "metadata": {},
   "outputs": [
    {
     "data": {
      "text/plain": [
       "array([(b'',   0.,   0.,   0), (b'donate', 200., 100., 105)],\n",
       "      dtype=[('name', 'S6'), ('height', '<f8'), ('weight', '<f8'), ('age', '<i8')])"
      ]
     },
     "execution_count": 212,
     "metadata": {},
     "output_type": "execute_result"
    }
   ],
   "source": [
    "employees_array[2:]"
   ]
  },
  {
   "cell_type": "code",
   "execution_count": 214,
   "id": "727fc784",
   "metadata": {},
   "outputs": [
    {
     "data": {
      "text/plain": [
       "array([ 89,   0,   0, 105])"
      ]
     },
     "execution_count": 214,
     "metadata": {},
     "output_type": "execute_result"
    }
   ],
   "source": [
    "ages = employees_array['age']\n",
    "ages"
   ]
  },
  {
   "cell_type": "code",
   "execution_count": 221,
   "id": "838f132c",
   "metadata": {},
   "outputs": [
    {
     "data": {
      "text/plain": [
       "array([[[(b'', 0., 0., 0), (b'', 0., 0., 0)],\n",
       "        [(b'', 0., 0., 0), (b'', 0., 0., 0)],\n",
       "        [(b'', 0., 0., 0), (b'', 0., 0., 0)]],\n",
       "\n",
       "       [[(b'', 0., 0., 0), (b'', 0., 0., 0)],\n",
       "        [(b'', 0., 0., 0), (b'', 0., 0., 0)],\n",
       "        [(b'', 0., 0., 0), (b'', 0., 0., 0)]],\n",
       "\n",
       "       [[(b'', 0., 0., 0), (b'', 0., 0., 0)],\n",
       "        [(b'', 0., 0., 0), (b'', 0., 0., 0)],\n",
       "        [(b'', 0., 0., 0), (b'', 0., 0., 0)]],\n",
       "\n",
       "       [[(b'', 0., 0., 0), (b'', 0., 0., 0)],\n",
       "        [(b'', 0., 0., 0), (b'', 0., 0., 0)],\n",
       "        [(b'', 0., 0., 0), (b'', 0., 0., 0)]]],\n",
       "      dtype=[('name', 'S6'), ('height', '<f8'), ('weight', '<f8'), ('age', '<i8')])"
      ]
     },
     "execution_count": 221,
     "metadata": {},
     "output_type": "execute_result"
    }
   ],
   "source": [
    "company_employees_all = np.zeros((4, 3, 2), dtype=employee_data_def)\n",
    "company_employees_all"
   ]
  },
  {
   "cell_type": "code",
   "execution_count": 222,
   "id": "56e8b441",
   "metadata": {},
   "outputs": [
    {
     "data": {
      "text/plain": [
       "array([[[(b'',  0.,   0.,  0), (b'',  0.,   0.,  0)],\n",
       "        [(b'',  0.,   0.,  0), (b'',  0.,   0.,  0)],\n",
       "        [(b'',  0.,   0.,  0), (b'',  0.,   0.,  0)]],\n",
       "\n",
       "       [[(b'',  0.,   0.,  0), (b'',  0.,   0.,  0)],\n",
       "        [(b'',  0.,   0.,  0), (b'',  0.,   0.,  0)],\n",
       "        [(b'',  0.,   0.,  0), (b'',  0.,   0.,  0)]],\n",
       "\n",
       "       [[(b'',  0.,   0.,  0), (b'',  0.,   0.,  0)],\n",
       "        [(b'',  0.,   0.,  0), (b'',  0.,   0.,  0)],\n",
       "        [(b'',  0.,   0.,  0), (b'',  0.,   0.,  0)]],\n",
       "\n",
       "       [[(b'',  0.,   0.,  0), (b'',  0.,   0.,  0)],\n",
       "        [(b'',  0.,   0.,  0), (b'',  0.,   0.,  0)],\n",
       "        [(b'',  0.,   0.,  0), (b'pipin', 90., 120., 98)]]],\n",
       "      dtype=[('name', 'S6'), ('height', '<f8'), ('weight', '<f8'), ('age', '<i8')])"
      ]
     },
     "execution_count": 222,
     "metadata": {},
     "output_type": "execute_result"
    }
   ],
   "source": [
    "company_employees_all[3, 2, 1] = ('pipin', 90, 120, 98)\n",
    "company_employees_all"
   ]
  },
  {
   "cell_type": "code",
   "execution_count": 226,
   "id": "76a4274f",
   "metadata": {},
   "outputs": [
    {
     "data": {
      "text/plain": [
       "array([[[( 0.,   0.), ( 0.,   0.)],\n",
       "        [( 0.,   0.), ( 0.,   0.)],\n",
       "        [( 0.,   0.), ( 0.,   0.)]],\n",
       "\n",
       "       [[( 0.,   0.), ( 0.,   0.)],\n",
       "        [( 0.,   0.), ( 0.,   0.)],\n",
       "        [( 0.,   0.), ( 0.,   0.)]],\n",
       "\n",
       "       [[( 0.,   0.), ( 0.,   0.)],\n",
       "        [( 0.,   0.), ( 0.,   0.)],\n",
       "        [( 0.,   0.), ( 0.,   0.)]],\n",
       "\n",
       "       [[( 0.,   0.), ( 0.,   0.)],\n",
       "        [( 0.,   0.), ( 0.,   0.)],\n",
       "        [( 0.,   0.), (90., 120.)]]],\n",
       "      dtype={'names':['height','weight'], 'formats':['<f8','<f8'], 'offsets':[6,14], 'itemsize':30})"
      ]
     },
     "execution_count": 226,
     "metadata": {},
     "output_type": "execute_result"
    }
   ],
   "source": [
    "company_employees_all[['height', 'weight']]"
   ]
  },
  {
   "cell_type": "code",
   "execution_count": 227,
   "id": "a4aaf0e6",
   "metadata": {},
   "outputs": [
    {
     "data": {
      "text/plain": [
       "array([[[ 0,  1,  2,  3],\n",
       "        [ 4,  5,  6,  7],\n",
       "        [ 8,  9, 10, 11]],\n",
       "\n",
       "       [[12, 13, 14, 15],\n",
       "        [16, 17, 18, 19],\n",
       "        [20, 21, 22, 23]]])"
      ]
     },
     "execution_count": 227,
     "metadata": {},
     "output_type": "execute_result"
    }
   ],
   "source": [
    "ave_array = np.arange(24).reshape((2, 3, 4))\n",
    "ave_array"
   ]
  },
  {
   "cell_type": "code",
   "execution_count": 296,
   "id": "db5f7424",
   "metadata": {},
   "outputs": [
    {
     "data": {
      "text/plain": [
       "array([ 0,  1,  2,  3,  4,  5,  6,  7,  8,  9, 10, 11, 12, 13, 14, 15, 16,\n",
       "       17, 18, 19, 20, 21, 22, 23,  5,  6,  7,  8])"
      ]
     },
     "execution_count": 296,
     "metadata": {},
     "output_type": "execute_result"
    }
   ],
   "source": [
    "trial_ave_array = np.append(ave_array, [5, 6, 7, 8])\n",
    "trial_ave_array"
   ]
  },
  {
   "cell_type": "code",
   "execution_count": 231,
   "id": "07238dd6",
   "metadata": {},
   "outputs": [
    {
     "data": {
      "text/plain": [
       "array([[ 0,  1,  2,  3],\n",
       "       [ 4,  5,  6,  7],\n",
       "       [ 8,  9, 10, 11],\n",
       "       [12, 13, 14, 15],\n",
       "       [16, 17, 18, 19],\n",
       "       [20, 21, 22, 23],\n",
       "       [ 5,  6,  7,  8]])"
      ]
     },
     "execution_count": 231,
     "metadata": {},
     "output_type": "execute_result"
    }
   ],
   "source": [
    "trial_ave_array.reshape(7, 4)"
   ]
  },
  {
   "cell_type": "code",
   "execution_count": 233,
   "id": "07be116f",
   "metadata": {},
   "outputs": [
    {
     "data": {
      "text/plain": [
       "array([[[  5,  15,  25,  35],\n",
       "        [ 45,  55,  65,  75],\n",
       "        [ 85,  95, 105, 115]],\n",
       "\n",
       "       [[125, 135, 145, 155],\n",
       "        [165, 175, 185, 195],\n",
       "        [205, 215, 225, 235]]])"
      ]
     },
     "execution_count": 233,
     "metadata": {},
     "output_type": "execute_result"
    }
   ],
   "source": [
    "new_trial_array = np.arange(24).reshape(2, 3, 4) * 10 + 5\n",
    "new_trial_array"
   ]
  },
  {
   "cell_type": "code",
   "execution_count": 250,
   "id": "6c9eba70",
   "metadata": {},
   "outputs": [
    {
     "data": {
      "text/plain": [
       "array([[[  0,   1,   2,   3,   5,  15,  25,  35],\n",
       "        [  4,   5,   6,   7,  45,  55,  65,  75],\n",
       "        [  8,   9,  10,  11,  85,  95, 105, 115]],\n",
       "\n",
       "       [[ 12,  13,  14,  15, 125, 135, 145, 155],\n",
       "        [ 16,  17,  18,  19, 165, 175, 185, 195],\n",
       "        [ 20,  21,  22,  23, 205, 215, 225, 235]]])"
      ]
     },
     "execution_count": 250,
     "metadata": {},
     "output_type": "execute_result"
    }
   ],
   "source": [
    "np.append(ave_array, new_trial_array, axis=2)"
   ]
  },
  {
   "cell_type": "code",
   "execution_count": 247,
   "id": "91f0f5f8",
   "metadata": {},
   "outputs": [
    {
     "data": {
      "text/plain": [
       "(2, 6, 4)"
      ]
     },
     "execution_count": 247,
     "metadata": {},
     "output_type": "execute_result"
    }
   ],
   "source": [
    "np.append(ave_array, new_trial_array, axis=1).shape"
   ]
  },
  {
   "cell_type": "code",
   "execution_count": 252,
   "id": "5197cce2",
   "metadata": {},
   "outputs": [
    {
     "data": {
      "text/plain": [
       "array([[[  0,   1,   2,   3],\n",
       "        [  4,   5,   6,   7],\n",
       "        [  8,   9,  10,  11],\n",
       "        [  5,  15,  25,  35],\n",
       "        [ 45,  55,  65,  75],\n",
       "        [ 85,  95, 105, 115]],\n",
       "\n",
       "       [[ 12,  13,  14,  15],\n",
       "        [ 16,  17,  18,  19],\n",
       "        [ 20,  21,  22,  23],\n",
       "        [125, 135, 145, 155],\n",
       "        [165, 175, 185, 195],\n",
       "        [205, 215, 225, 235]]])"
      ]
     },
     "execution_count": 252,
     "metadata": {},
     "output_type": "execute_result"
    }
   ],
   "source": [
    "ave_stack = np.hstack((ave_array, new_trial_array))\n",
    "ave_stack"
   ]
  },
  {
   "cell_type": "markdown",
   "id": "29bb9de2",
   "metadata": {},
   "source": [
    "## how insert works"
   ]
  },
  {
   "cell_type": "code",
   "execution_count": 253,
   "id": "599db93e",
   "metadata": {},
   "outputs": [
    {
     "data": {
      "text/plain": [
       "array([[[ 0,  1,  2,  3],\n",
       "        [ 4,  5,  6,  7],\n",
       "        [ 8,  9, 10, 11]],\n",
       "\n",
       "       [[12, 13, 14, 15],\n",
       "        [16, 17, 18, 19],\n",
       "        [20, 21, 22, 23]]])"
      ]
     },
     "execution_count": 253,
     "metadata": {},
     "output_type": "execute_result"
    }
   ],
   "source": [
    "ave_array"
   ]
  },
  {
   "cell_type": "code",
   "execution_count": 259,
   "id": "d6dbff8e",
   "metadata": {},
   "outputs": [
    {
     "data": {
      "text/plain": [
       "(2, 3, 4)"
      ]
     },
     "execution_count": 259,
     "metadata": {},
     "output_type": "execute_result"
    }
   ],
   "source": [
    "ave_array.shape"
   ]
  },
  {
   "cell_type": "code",
   "execution_count": null,
   "id": "41db851f",
   "metadata": {},
   "outputs": [],
   "source": []
  },
  {
   "cell_type": "code",
   "execution_count": 254,
   "id": "b6fbcc3b",
   "metadata": {},
   "outputs": [
    {
     "data": {
      "text/plain": [
       "array([[[  0,   1,   2,   3],\n",
       "        [  4,   5,   6,   7],\n",
       "        [  8,   9,  10,  11]],\n",
       "\n",
       "       [[666, 666, 666, 666],\n",
       "        [666, 666, 666, 666],\n",
       "        [666, 666, 666, 666]],\n",
       "\n",
       "       [[ 12,  13,  14,  15],\n",
       "        [ 16,  17,  18,  19],\n",
       "        [ 20,  21,  22,  23]]])"
      ]
     },
     "execution_count": 254,
     "metadata": {},
     "output_type": "execute_result"
    }
   ],
   "source": [
    "insert_ave_array = np.insert(ave_array, 1, 666, axis=0)\n",
    "insert_ave_array"
   ]
  },
  {
   "cell_type": "code",
   "execution_count": 260,
   "id": "7e7a5a73",
   "metadata": {},
   "outputs": [
    {
     "data": {
      "text/plain": [
       "array([[[  0, 666,   1,   2,   3],\n",
       "        [  4, 666,   5,   6,   7],\n",
       "        [  8, 666,   9,  10,  11]],\n",
       "\n",
       "       [[ 12, 666,  13,  14,  15],\n",
       "        [ 16, 666,  17,  18,  19],\n",
       "        [ 20, 666,  21,  22,  23]]])"
      ]
     },
     "execution_count": 260,
     "metadata": {},
     "output_type": "execute_result"
    }
   ],
   "source": [
    "insert_ave_array = np.insert(ave_array, 1, 666, axis=2)\n",
    "insert_ave_array"
   ]
  },
  {
   "cell_type": "code",
   "execution_count": 264,
   "id": "c91f940d",
   "metadata": {},
   "outputs": [
    {
     "name": "stdout",
     "output_type": "stream",
     "text": [
      "(2, 3, 4)\n"
     ]
    },
    {
     "data": {
      "text/plain": [
       "array([[[ 0.,  1.,  2.,  3.],\n",
       "        [ 4.,  5.,  6.,  7.],\n",
       "        [ 8.,  9., 10., 11.]],\n",
       "\n",
       "       [[12., 13., 14., 15.],\n",
       "        [16., 17., 18., 19.],\n",
       "        [20., 21., 22., 23.]]])"
      ]
     },
     "execution_count": 264,
     "metadata": {},
     "output_type": "execute_result"
    }
   ],
   "source": [
    "del_array = np.empty(ave_array.shape)\n",
    "np.copyto(del_array, ave_array)\n",
    "print(del_array.shape)\n",
    "del_array"
   ]
  },
  {
   "cell_type": "code",
   "execution_count": 268,
   "id": "8f273790",
   "metadata": {},
   "outputs": [
    {
     "data": {
      "text/plain": [
       "array([[[ 0.,  2.,  3.],\n",
       "        [ 4.,  6.,  7.],\n",
       "        [ 8., 10., 11.]],\n",
       "\n",
       "       [[12., 14., 15.],\n",
       "        [16., 18., 19.],\n",
       "        [20., 22., 23.]]])"
      ]
     },
     "execution_count": 268,
     "metadata": {},
     "output_type": "execute_result"
    }
   ],
   "source": [
    "np.delete(del_array, 1, axis=2)"
   ]
  },
  {
   "cell_type": "code",
   "execution_count": 280,
   "id": "d884fd56",
   "metadata": {},
   "outputs": [
    {
     "data": {
      "text/plain": [
       "array([[1, 2],\n",
       "       [3, 4]])"
      ]
     },
     "execution_count": 280,
     "metadata": {},
     "output_type": "execute_result"
    }
   ],
   "source": [
    "alpha = np.array([[1,2],[3,4]])\n",
    "beta= np.array([[5,6]])\n",
    "alpha"
   ]
  },
  {
   "cell_type": "code",
   "execution_count": 289,
   "id": "bcc95330",
   "metadata": {},
   "outputs": [
    {
     "data": {
      "text/plain": [
       "(1, 2)"
      ]
     },
     "execution_count": 289,
     "metadata": {},
     "output_type": "execute_result"
    }
   ],
   "source": [
    "beta.shape\n"
   ]
  },
  {
   "cell_type": "code",
   "execution_count": 316,
   "id": "e6b209f9",
   "metadata": {},
   "outputs": [
    {
     "data": {
      "text/plain": [
       "array([[5, 1, 2],\n",
       "       [6, 3, 4]])"
      ]
     },
     "execution_count": 316,
     "metadata": {},
     "output_type": "execute_result"
    }
   ],
   "source": [
    "np.insert(alpha,0,  beta, axis=1)"
   ]
  },
  {
   "cell_type": "code",
   "execution_count": 312,
   "id": "1e204bae",
   "metadata": {},
   "outputs": [
    {
     "name": "stdout",
     "output_type": "stream",
     "text": [
      "(3, 2)\n"
     ]
    },
    {
     "data": {
      "text/plain": [
       "array([[1, 2],\n",
       "       [3, 4],\n",
       "       [5, 6]])"
      ]
     },
     "execution_count": 312,
     "metadata": {},
     "output_type": "execute_result"
    }
   ],
   "source": [
    "together = np.concatenate((alpha, beta), axis=0)\n",
    "print(together.shape)\n",
    "together\n"
   ]
  },
  {
   "cell_type": "code",
   "execution_count": 297,
   "id": "a13f12a2",
   "metadata": {},
   "outputs": [
    {
     "data": {
      "text/plain": [
       "array([[  1,   2],\n",
       "       [  3, 666],\n",
       "       [  5,   6]])"
      ]
     },
     "execution_count": 297,
     "metadata": {},
     "output_type": "execute_result"
    }
   ],
   "source": [
    "together[1, 1] = 666\n",
    "together"
   ]
  },
  {
   "cell_type": "code",
   "execution_count": 319,
   "id": "bd21c96e",
   "metadata": {},
   "outputs": [
    {
     "data": {
      "text/plain": [
       "array([[[-2.2725,  0.4001, -0.0239,  0.0993],\n",
       "        [ 0.3305,  0.2358, -0.2278,  0.9284],\n",
       "        [ 2.2493, -0.4867,  0.762 , -0.8607]],\n",
       "\n",
       "       [[-1.199 ,  0.9853,  0.4138,  1.5336],\n",
       "        [-0.8912, -0.1758,  0.7392,  2.0034],\n",
       "        [ 0.2767,  0.4127,  0.2689, -1.3025]],\n",
       "\n",
       "       [[ 0.1731, -2.745 , -0.5701, -0.2247],\n",
       "        [-0.2688, -1.6549, -1.4476,  0.7977],\n",
       "        [ 0.839 , -0.1126,  0.4714,  0.6549]],\n",
       "\n",
       "       [[ 0.3342,  2.337 , -0.3095, -0.4274],\n",
       "        [-1.5615,  1.0063, -0.0182,  0.379 ],\n",
       "        [ 1.1953, -0.1594, -0.3891, -1.0061]],\n",
       "\n",
       "       [[ 0.6619, -1.6168, -0.2407,  1.7098],\n",
       "        [-0.0078, -1.2291,  1.6535, -0.9557],\n",
       "        [-0.6724, -1.3686, -0.7598,  0.4938]]])"
      ]
     },
     "execution_count": 319,
     "metadata": {},
     "output_type": "execute_result"
    }
   ],
   "source": [
    "arrays = np.zeros((5,3,4))\n",
    "for n in range(5):\n",
    "    arrays[n] = np.random.randn(3,4)\n",
    "arrays"
   ]
  },
  {
   "cell_type": "code",
   "execution_count": 320,
   "id": "d6dc2c6c",
   "metadata": {},
   "outputs": [],
   "source": [
    "stack0= np.stack(arrays, axis=0)\n",
    "stack1= np.stack(arrays, axis=1)\n",
    "stack2= np.stack(arrays, axis=2)"
   ]
  },
  {
   "cell_type": "code",
   "execution_count": 321,
   "id": "c9ba59b1",
   "metadata": {},
   "outputs": [
    {
     "data": {
      "text/plain": [
       "array([[[-2.2725,  0.4001, -0.0239,  0.0993],\n",
       "        [ 0.3305,  0.2358, -0.2278,  0.9284],\n",
       "        [ 2.2493, -0.4867,  0.762 , -0.8607]],\n",
       "\n",
       "       [[-1.199 ,  0.9853,  0.4138,  1.5336],\n",
       "        [-0.8912, -0.1758,  0.7392,  2.0034],\n",
       "        [ 0.2767,  0.4127,  0.2689, -1.3025]],\n",
       "\n",
       "       [[ 0.1731, -2.745 , -0.5701, -0.2247],\n",
       "        [-0.2688, -1.6549, -1.4476,  0.7977],\n",
       "        [ 0.839 , -0.1126,  0.4714,  0.6549]],\n",
       "\n",
       "       [[ 0.3342,  2.337 , -0.3095, -0.4274],\n",
       "        [-1.5615,  1.0063, -0.0182,  0.379 ],\n",
       "        [ 1.1953, -0.1594, -0.3891, -1.0061]],\n",
       "\n",
       "       [[ 0.6619, -1.6168, -0.2407,  1.7098],\n",
       "        [-0.0078, -1.2291,  1.6535, -0.9557],\n",
       "        [-0.6724, -1.3686, -0.7598,  0.4938]]])"
      ]
     },
     "execution_count": 321,
     "metadata": {},
     "output_type": "execute_result"
    }
   ],
   "source": [
    "stack0"
   ]
  },
  {
   "cell_type": "code",
   "execution_count": 322,
   "id": "47a19074",
   "metadata": {},
   "outputs": [
    {
     "data": {
      "text/plain": [
       "array([[[-2.2725,  0.4001, -0.0239,  0.0993],\n",
       "        [-1.199 ,  0.9853,  0.4138,  1.5336],\n",
       "        [ 0.1731, -2.745 , -0.5701, -0.2247],\n",
       "        [ 0.3342,  2.337 , -0.3095, -0.4274],\n",
       "        [ 0.6619, -1.6168, -0.2407,  1.7098]],\n",
       "\n",
       "       [[ 0.3305,  0.2358, -0.2278,  0.9284],\n",
       "        [-0.8912, -0.1758,  0.7392,  2.0034],\n",
       "        [-0.2688, -1.6549, -1.4476,  0.7977],\n",
       "        [-1.5615,  1.0063, -0.0182,  0.379 ],\n",
       "        [-0.0078, -1.2291,  1.6535, -0.9557]],\n",
       "\n",
       "       [[ 2.2493, -0.4867,  0.762 , -0.8607],\n",
       "        [ 0.2767,  0.4127,  0.2689, -1.3025],\n",
       "        [ 0.839 , -0.1126,  0.4714,  0.6549],\n",
       "        [ 1.1953, -0.1594, -0.3891, -1.0061],\n",
       "        [-0.6724, -1.3686, -0.7598,  0.4938]]])"
      ]
     },
     "execution_count": 322,
     "metadata": {},
     "output_type": "execute_result"
    }
   ],
   "source": [
    "stack1"
   ]
  },
  {
   "cell_type": "code",
   "execution_count": 323,
   "id": "38605df6",
   "metadata": {},
   "outputs": [
    {
     "data": {
      "text/plain": [
       "array([[[-2.2725, -1.199 ,  0.1731,  0.3342,  0.6619],\n",
       "        [ 0.4001,  0.9853, -2.745 ,  2.337 , -1.6168],\n",
       "        [-0.0239,  0.4138, -0.5701, -0.3095, -0.2407],\n",
       "        [ 0.0993,  1.5336, -0.2247, -0.4274,  1.7098]],\n",
       "\n",
       "       [[ 0.3305, -0.8912, -0.2688, -1.5615, -0.0078],\n",
       "        [ 0.2358, -0.1758, -1.6549,  1.0063, -1.2291],\n",
       "        [-0.2278,  0.7392, -1.4476, -0.0182,  1.6535],\n",
       "        [ 0.9284,  2.0034,  0.7977,  0.379 , -0.9557]],\n",
       "\n",
       "       [[ 2.2493,  0.2767,  0.839 ,  1.1953, -0.6724],\n",
       "        [-0.4867,  0.4127, -0.1126, -0.1594, -1.3686],\n",
       "        [ 0.762 ,  0.2689,  0.4714, -0.3891, -0.7598],\n",
       "        [-0.8607, -1.3025,  0.6549, -1.0061,  0.4938]]])"
      ]
     },
     "execution_count": 323,
     "metadata": {},
     "output_type": "execute_result"
    }
   ],
   "source": [
    "stack2"
   ]
  },
  {
   "cell_type": "code",
   "execution_count": 324,
   "id": "e3248111",
   "metadata": {},
   "outputs": [
    {
     "data": {
      "text/plain": [
       "(5, 3, 4)"
      ]
     },
     "execution_count": 324,
     "metadata": {},
     "output_type": "execute_result"
    }
   ],
   "source": [
    "before_split = stack0\n",
    "before_split.shape"
   ]
  },
  {
   "cell_type": "code",
   "execution_count": 326,
   "id": "c2041ae2",
   "metadata": {},
   "outputs": [
    {
     "data": {
      "text/plain": [
       "5"
      ]
     },
     "execution_count": 326,
     "metadata": {},
     "output_type": "execute_result"
    }
   ],
   "source": [
    "s0 = np.split(before_split, 5, axis=0)\n",
    "s0"
   ]
  },
  {
   "cell_type": "code",
   "execution_count": 330,
   "id": "ce363726",
   "metadata": {},
   "outputs": [
    {
     "data": {
      "text/plain": [
       "[array([[[-2.2725,  0.4001, -0.0239,  0.0993]],\n",
       " \n",
       "        [[-1.199 ,  0.9853,  0.4138,  1.5336]],\n",
       " \n",
       "        [[ 0.1731, -2.745 , -0.5701, -0.2247]],\n",
       " \n",
       "        [[ 0.3342,  2.337 , -0.3095, -0.4274]],\n",
       " \n",
       "        [[ 0.6619, -1.6168, -0.2407,  1.7098]]]),\n",
       " array([[[ 0.3305,  0.2358, -0.2278,  0.9284]],\n",
       " \n",
       "        [[-0.8912, -0.1758,  0.7392,  2.0034]],\n",
       " \n",
       "        [[-0.2688, -1.6549, -1.4476,  0.7977]],\n",
       " \n",
       "        [[-1.5615,  1.0063, -0.0182,  0.379 ]],\n",
       " \n",
       "        [[-0.0078, -1.2291,  1.6535, -0.9557]]]),\n",
       " array([[[ 2.2493, -0.4867,  0.762 , -0.8607]],\n",
       " \n",
       "        [[ 0.2767,  0.4127,  0.2689, -1.3025]],\n",
       " \n",
       "        [[ 0.839 , -0.1126,  0.4714,  0.6549]],\n",
       " \n",
       "        [[ 1.1953, -0.1594, -0.3891, -1.0061]],\n",
       " \n",
       "        [[-0.6724, -1.3686, -0.7598,  0.4938]]])]"
      ]
     },
     "execution_count": 330,
     "metadata": {},
     "output_type": "execute_result"
    }
   ],
   "source": [
    "s1= np.split(before_split, 3, axis=1)\n",
    "s1"
   ]
  },
  {
   "cell_type": "code",
   "execution_count": 331,
   "id": "c7179bc6",
   "metadata": {},
   "outputs": [
    {
     "data": {
      "text/plain": [
       "array([ 0,  1,  2,  3,  4,  5,  6,  7,  8,  9, 10, 11, 12, 13, 14, 15, 16,\n",
       "       17, 18, 19, 20, 21, 22, 23])"
      ]
     },
     "execution_count": 331,
     "metadata": {},
     "output_type": "execute_result"
    }
   ],
   "source": [
    "ave_start = np.arange(24)\n",
    "ave_start"
   ]
  },
  {
   "cell_type": "code",
   "execution_count": 332,
   "id": "20d94f1c",
   "metadata": {},
   "outputs": [
    {
     "data": {
      "text/plain": [
       "array([[ 0,  1,  2,  3,  4,  5,  6,  7],\n",
       "       [ 8,  9, 10, 11, 12, 13, 14, 15],\n",
       "       [16, 17, 18, 19, 20, 21, 22, 23]])"
      ]
     },
     "execution_count": 332,
     "metadata": {},
     "output_type": "execute_result"
    }
   ],
   "source": [
    "ave_3_8_rate = ave_start.reshape((3,8))\n",
    "ave_3_8_rate"
   ]
  },
  {
   "cell_type": "code",
   "execution_count": 333,
   "id": "04a22bb0",
   "metadata": {},
   "outputs": [
    {
     "data": {
      "text/plain": [
       "array([ 0,  1,  2,  3,  4,  5,  6,  7,  8,  9, 10, 11, 12, 13, 14, 15, 16,\n",
       "       17, 18, 19, 20, 21, 22, 23])"
      ]
     },
     "execution_count": 333,
     "metadata": {},
     "output_type": "execute_result"
    }
   ],
   "source": [
    "ave_ravel_array = ave_3_8_rate.ravel()\n",
    "ave_ravel_array"
   ]
  },
  {
   "cell_type": "code",
   "execution_count": 336,
   "id": "1e28e336",
   "metadata": {},
   "outputs": [
    {
     "data": {
      "text/plain": [
       "array([ 0,  1,  2,  3,  4,  5,  6,  7,  8,  9, 10, 11, 12, 13, 14, 15, 16,\n",
       "       17, 18, 19, 20, 21, 22, 23])"
      ]
     },
     "execution_count": 336,
     "metadata": {},
     "output_type": "execute_result"
    }
   ],
   "source": [
    "flat = ave_3_8_rate.flatten()\n",
    "flat"
   ]
  },
  {
   "cell_type": "code",
   "execution_count": 337,
   "id": "9be383af",
   "metadata": {},
   "outputs": [
    {
     "name": "stdout",
     "output_type": "stream",
     "text": [
      "0\n",
      "1\n",
      "2\n",
      "3\n",
      "4\n",
      "5\n",
      "6\n",
      "7\n",
      "8\n",
      "9\n",
      "10\n",
      "11\n",
      "12\n",
      "13\n",
      "14\n",
      "15\n",
      "16\n",
      "17\n",
      "18\n",
      "19\n",
      "20\n",
      "21\n",
      "22\n",
      "23\n"
     ]
    }
   ],
   "source": [
    "for n in ave_3_8_rate.flat:\n",
    "    print(n)"
   ]
  },
  {
   "cell_type": "code",
   "execution_count": 338,
   "id": "d2f0036f",
   "metadata": {},
   "outputs": [],
   "source": [
    "ave_start_array = np.arange(24)\n",
    "ave_3_8_array = ave_start_array.reshape((3,8))\n",
    "ave_2_3_4_array = ave_3_8_array.reshape((2,3,4))"
   ]
  },
  {
   "cell_type": "code",
   "execution_count": 339,
   "id": "dc2f00b8",
   "metadata": {},
   "outputs": [
    {
     "data": {
      "text/plain": [
       "array([[ 0,  1,  2,  3,  4,  5,  6,  7],\n",
       "       [ 8,  9, 10, 11, 12, 13, 14, 15],\n",
       "       [16, 17, 18, 19, 20, 21, 22, 23]])"
      ]
     },
     "execution_count": 339,
     "metadata": {},
     "output_type": "execute_result"
    }
   ],
   "source": [
    "ave_3_8_array"
   ]
  },
  {
   "cell_type": "code",
   "execution_count": 340,
   "id": "45ea49e8",
   "metadata": {},
   "outputs": [
    {
     "data": {
      "text/plain": [
       "array([[ 7,  6,  5,  4,  3,  2,  1,  0],\n",
       "       [15, 14, 13, 12, 11, 10,  9,  8],\n",
       "       [23, 22, 21, 20, 19, 18, 17, 16]])"
      ]
     },
     "execution_count": 340,
     "metadata": {},
     "output_type": "execute_result"
    }
   ],
   "source": [
    "np.fliplr(ave_3_8_array)"
   ]
  },
  {
   "cell_type": "code",
   "execution_count": 341,
   "id": "0539320f",
   "metadata": {},
   "outputs": [
    {
     "data": {
      "text/plain": [
       "array([[[ 0,  1,  2,  3],\n",
       "        [ 4,  5,  6,  7],\n",
       "        [ 8,  9, 10, 11]],\n",
       "\n",
       "       [[12, 13, 14, 15],\n",
       "        [16, 17, 18, 19],\n",
       "        [20, 21, 22, 23]]])"
      ]
     },
     "execution_count": 341,
     "metadata": {},
     "output_type": "execute_result"
    }
   ],
   "source": [
    "ave_2_3_4_array"
   ]
  },
  {
   "cell_type": "code",
   "execution_count": 342,
   "id": "7966651c",
   "metadata": {},
   "outputs": [
    {
     "data": {
      "text/plain": [
       "array([[[ 8,  9, 10, 11],\n",
       "        [ 4,  5,  6,  7],\n",
       "        [ 0,  1,  2,  3]],\n",
       "\n",
       "       [[20, 21, 22, 23],\n",
       "        [16, 17, 18, 19],\n",
       "        [12, 13, 14, 15]]])"
      ]
     },
     "execution_count": 342,
     "metadata": {},
     "output_type": "execute_result"
    }
   ],
   "source": [
    "np.fliplr(ave_2_3_4_array)"
   ]
  },
  {
   "cell_type": "code",
   "execution_count": 343,
   "id": "3997455c",
   "metadata": {},
   "outputs": [
    {
     "data": {
      "text/plain": [
       "array([[ 0,  1,  2,  3,  4,  5,  6,  7],\n",
       "       [ 8,  9, 10, 11, 12, 13, 14, 15],\n",
       "       [16, 17, 18, 19, 20, 21, 22, 23]])"
      ]
     },
     "execution_count": 343,
     "metadata": {},
     "output_type": "execute_result"
    }
   ],
   "source": [
    "ave_3_8_array"
   ]
  },
  {
   "cell_type": "code",
   "execution_count": 345,
   "id": "efcd2c8b",
   "metadata": {},
   "outputs": [
    {
     "data": {
      "text/plain": [
       "array([[16, 17, 18, 19, 20, 21, 22, 23],\n",
       "       [ 8,  9, 10, 11, 12, 13, 14, 15],\n",
       "       [ 0,  1,  2,  3,  4,  5,  6,  7]])"
      ]
     },
     "execution_count": 345,
     "metadata": {},
     "output_type": "execute_result"
    }
   ],
   "source": [
    "np.flipud(ave_3_8_array)"
   ]
  },
  {
   "cell_type": "code",
   "execution_count": 346,
   "id": "305f25a5",
   "metadata": {},
   "outputs": [
    {
     "data": {
      "text/plain": [
       "array([[[12, 13, 14, 15],\n",
       "        [16, 17, 18, 19],\n",
       "        [20, 21, 22, 23]],\n",
       "\n",
       "       [[ 0,  1,  2,  3],\n",
       "        [ 4,  5,  6,  7],\n",
       "        [ 8,  9, 10, 11]]])"
      ]
     },
     "execution_count": 346,
     "metadata": {},
     "output_type": "execute_result"
    }
   ],
   "source": [
    "np.flipud(ave_2_3_4_array)"
   ]
  },
  {
   "cell_type": "code",
   "execution_count": 347,
   "id": "f0758150",
   "metadata": {},
   "outputs": [
    {
     "data": {
      "text/plain": [
       "array([ 0,  1,  2,  3,  4,  5,  6,  7,  8,  9, 10, 11, 12, 13, 14, 15, 16,\n",
       "       17, 18, 19, 20, 21, 22, 23])"
      ]
     },
     "execution_count": 347,
     "metadata": {},
     "output_type": "execute_result"
    }
   ],
   "source": [
    "ave_start_array"
   ]
  },
  {
   "cell_type": "code",
   "execution_count": 348,
   "id": "b708d89b",
   "metadata": {},
   "outputs": [
    {
     "data": {
      "text/plain": [
       "array([19, 20, 21, 22, 23,  0,  1,  2,  3,  4,  5,  6,  7,  8,  9, 10, 11,\n",
       "       12, 13, 14, 15, 16, 17, 18])"
      ]
     },
     "execution_count": 348,
     "metadata": {},
     "output_type": "execute_result"
    }
   ],
   "source": [
    "np.roll(ave_start_array, 5)"
   ]
  },
  {
   "cell_type": "code",
   "execution_count": 349,
   "id": "f726267f",
   "metadata": {},
   "outputs": [
    {
     "data": {
      "text/plain": [
       "array([ 5,  6,  7,  8,  9, 10, 11, 12, 13, 14, 15, 16, 17, 18, 19, 20, 21,\n",
       "       22, 23,  0,  1,  2,  3,  4])"
      ]
     },
     "execution_count": 349,
     "metadata": {},
     "output_type": "execute_result"
    }
   ],
   "source": [
    "np.roll(ave_start_array, -5)"
   ]
  },
  {
   "cell_type": "code",
   "execution_count": 351,
   "id": "19589740",
   "metadata": {},
   "outputs": [
    {
     "data": {
      "text/plain": [
       "array([[[ 0,  1,  2,  3],\n",
       "        [ 4,  5,  6,  7],\n",
       "        [ 8,  9, 10, 11]],\n",
       "\n",
       "       [[12, 13, 14, 15],\n",
       "        [16, 17, 18, 19],\n",
       "        [20, 21, 22, 23]]])"
      ]
     },
     "execution_count": 351,
     "metadata": {},
     "output_type": "execute_result"
    }
   ],
   "source": [
    "ave_2_3_4_array"
   ]
  },
  {
   "cell_type": "code",
   "execution_count": 352,
   "id": "d8740a89",
   "metadata": {},
   "outputs": [
    {
     "data": {
      "text/plain": [
       "array([[[22, 23,  0,  1],\n",
       "        [ 2,  3,  4,  5],\n",
       "        [ 6,  7,  8,  9]],\n",
       "\n",
       "       [[10, 11, 12, 13],\n",
       "        [14, 15, 16, 17],\n",
       "        [18, 19, 20, 21]]])"
      ]
     },
     "execution_count": 352,
     "metadata": {},
     "output_type": "execute_result"
    }
   ],
   "source": [
    "np.roll(ave_2_3_4_array, 2)"
   ]
  },
  {
   "cell_type": "code",
   "execution_count": 353,
   "id": "5acc8766",
   "metadata": {},
   "outputs": [
    {
     "data": {
      "text/plain": [
       "array([[ 0,  1,  2,  3,  4,  5,  6,  7],\n",
       "       [ 8,  9, 10, 11, 12, 13, 14, 15],\n",
       "       [16, 17, 18, 19, 20, 21, 22, 23]])"
      ]
     },
     "execution_count": 353,
     "metadata": {},
     "output_type": "execute_result"
    }
   ],
   "source": [
    "ave_3_8_array"
   ]
  },
  {
   "cell_type": "code",
   "execution_count": 354,
   "id": "bf629c18",
   "metadata": {},
   "outputs": [
    {
     "data": {
      "text/plain": [
       "array([[21, 22, 23,  0,  1,  2,  3,  4],\n",
       "       [ 5,  6,  7,  8,  9, 10, 11, 12],\n",
       "       [13, 14, 15, 16, 17, 18, 19, 20]])"
      ]
     },
     "execution_count": 354,
     "metadata": {},
     "output_type": "execute_result"
    }
   ],
   "source": [
    "np.roll(ave_3_8_array, 3)"
   ]
  },
  {
   "cell_type": "code",
   "execution_count": 355,
   "id": "7a10da77",
   "metadata": {},
   "outputs": [
    {
     "data": {
      "text/plain": [
       "array([[ 0,  1,  2,  3,  4,  5,  6,  7],\n",
       "       [ 8,  9, 10, 11, 12, 13, 14, 15],\n",
       "       [16, 17, 18, 19, 20, 21, 22, 23]])"
      ]
     },
     "execution_count": 355,
     "metadata": {},
     "output_type": "execute_result"
    }
   ],
   "source": [
    "ave_3_8_array"
   ]
  },
  {
   "cell_type": "code",
   "execution_count": 358,
   "id": "2dfeaf4b",
   "metadata": {},
   "outputs": [
    {
     "data": {
      "text/plain": [
       "array([[ 7, 15, 23],\n",
       "       [ 6, 14, 22],\n",
       "       [ 5, 13, 21],\n",
       "       [ 4, 12, 20],\n",
       "       [ 3, 11, 19],\n",
       "       [ 2, 10, 18],\n",
       "       [ 1,  9, 17],\n",
       "       [ 0,  8, 16]])"
      ]
     },
     "execution_count": 358,
     "metadata": {},
     "output_type": "execute_result"
    }
   ],
   "source": [
    "np.rot90(ave_3_8_array)"
   ]
  },
  {
   "cell_type": "code",
   "execution_count": 360,
   "id": "2c95875f",
   "metadata": {},
   "outputs": [
    {
     "data": {
      "text/plain": [
       "array([0, 1, 2, 3, 4, 5, 6, 7, 8, 9])"
      ]
     },
     "execution_count": 360,
     "metadata": {},
     "output_type": "execute_result"
    }
   ],
   "source": [
    "ave_array_one = np.arange(10)\n",
    "ave_array_one"
   ]
  },
  {
   "cell_type": "code",
   "execution_count": 364,
   "id": "67204905",
   "metadata": {},
   "outputs": [
    {
     "data": {
      "text/plain": [
       "array([[0, 1, 2, 3, 4, 5, 6, 7, 8, 9],\n",
       "       [0, 1, 2, 3, 4, 5, 6, 7, 8, 9],\n",
       "       [0, 1, 2, 3, 4, 5, 6, 7, 8, 9],\n",
       "       [0, 1, 2, 3, 4, 5, 6, 7, 8, 9],\n",
       "       [0, 1, 2, 3, 4, 5, 6, 7, 8, 9]])"
      ]
     },
     "execution_count": 364,
     "metadata": {},
     "output_type": "execute_result"
    }
   ],
   "source": [
    "np.tile(ave_array_one,5).reshape(5,10)"
   ]
  },
  {
   "cell_type": "code",
   "execution_count": 365,
   "id": "7d024e34",
   "metadata": {},
   "outputs": [
    {
     "data": {
      "text/plain": [
       "array([[0, 1, 2, 3, 4, 5, 6],\n",
       "       [0, 1, 2, 3, 4, 5, 6],\n",
       "       [0, 1, 2, 3, 4, 5, 6]])"
      ]
     },
     "execution_count": 365,
     "metadata": {},
     "output_type": "execute_result"
    }
   ],
   "source": [
    "ave_array_two = np.array(np.arange(7))\n",
    "tile1 = np.tile(ave_array_two,(3,1))\n",
    "tile1"
   ]
  },
  {
   "cell_type": "code",
   "execution_count": 366,
   "id": "3702b840",
   "metadata": {},
   "outputs": [
    {
     "data": {
      "text/plain": [
       "array([0, 0, 0, 1, 1, 1, 2, 2, 2, 3, 3, 3, 4, 4, 4, 5, 5, 5, 6, 6, 6])"
      ]
     },
     "execution_count": 366,
     "metadata": {},
     "output_type": "execute_result"
    }
   ],
   "source": [
    "np.repeat(ave_array_two, 3)"
   ]
  },
  {
   "cell_type": "code",
   "execution_count": 370,
   "id": "d283c36b",
   "metadata": {},
   "outputs": [
    {
     "data": {
      "text/plain": [
       "array([3, 3])"
      ]
     },
     "execution_count": 370,
     "metadata": {},
     "output_type": "execute_result"
    }
   ],
   "source": [
    "np.full(2, 3)"
   ]
  },
  {
   "cell_type": "code",
   "execution_count": 372,
   "id": "96de1622",
   "metadata": {},
   "outputs": [
    {
     "data": {
      "text/plain": [
       "array([0., 0.])"
      ]
     },
     "execution_count": 372,
     "metadata": {},
     "output_type": "execute_result"
    }
   ],
   "source": [
    "np.zeros(2)"
   ]
  },
  {
   "cell_type": "code",
   "execution_count": 373,
   "id": "05ca651a",
   "metadata": {},
   "outputs": [
    {
     "data": {
      "text/plain": [
       "array([1., 1., 1., 1.])"
      ]
     },
     "execution_count": 373,
     "metadata": {},
     "output_type": "execute_result"
    }
   ],
   "source": [
    "np.ones(4)"
   ]
  },
  {
   "cell_type": "code",
   "execution_count": 388,
   "id": "1bb41414",
   "metadata": {},
   "outputs": [
    {
     "data": {
      "text/plain": [
       "dtype('float64')"
      ]
     },
     "execution_count": 388,
     "metadata": {},
     "output_type": "execute_result"
    }
   ],
   "source": [
    "zeros = (np.zeros(2) + 1) * 5\n",
    "zeros.dtype"
   ]
  },
  {
   "cell_type": "code",
   "execution_count": 386,
   "id": "757050ae",
   "metadata": {},
   "outputs": [
    {
     "data": {
      "text/plain": [
       "array([2, 2])"
      ]
     },
     "execution_count": 386,
     "metadata": {},
     "output_type": "execute_result"
    }
   ],
   "source": [
    "np.full((2,),2)"
   ]
  },
  {
   "cell_type": "code",
   "execution_count": null,
   "id": "0709f56f",
   "metadata": {},
   "outputs": [],
   "source": []
  }
 ],
 "metadata": {
  "kernelspec": {
   "display_name": "Python 3 (ipykernel)",
   "language": "python",
   "name": "python3"
  },
  "language_info": {
   "codemirror_mode": {
    "name": "ipython",
    "version": 3
   },
   "file_extension": ".py",
   "mimetype": "text/x-python",
   "name": "python",
   "nbconvert_exporter": "python",
   "pygments_lexer": "ipython3",
   "version": "3.8.10"
  },
  "varInspector": {
   "cols": {
    "lenName": 16,
    "lenType": 16,
    "lenVar": 40
   },
   "kernels_config": {
    "python": {
     "delete_cmd_postfix": "",
     "delete_cmd_prefix": "del ",
     "library": "var_list.py",
     "varRefreshCmd": "print(var_dic_list())"
    },
    "r": {
     "delete_cmd_postfix": ") ",
     "delete_cmd_prefix": "rm(",
     "library": "var_list.r",
     "varRefreshCmd": "cat(var_dic_list()) "
    }
   },
   "types_to_exclude": [
    "module",
    "function",
    "builtin_function_or_method",
    "instance",
    "_Feature"
   ],
   "window_display": false
  }
 },
 "nbformat": 4,
 "nbformat_minor": 5
}
